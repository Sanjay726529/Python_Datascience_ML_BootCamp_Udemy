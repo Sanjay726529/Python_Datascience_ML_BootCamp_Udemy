{
 "cells": [
  {
   "cell_type": "markdown",
   "metadata": {},
   "source": [
    "# NUMPY\n",
    "---\n",
    "\n",
    "* Numpy is one python library and is similar to python built-in data structure List, but is faster and hence used extensively in complex computation scenarios\n",
    "* numpy has two main flavors: vectors and matrices\n",
    "* vector: is a 1-Dimensional array size(1,n)\n",
    "* matrix: matrix is 2-D dimensional array of size m rows and n col\n",
    "\n",
    "***Note: matrix can still have a 1-d array***"
   ]
  },
  {
   "cell_type": "markdown",
   "metadata": {},
   "source": [
    "np.arange()\n",
    "np.random.randn\n",
    "np.random.rand\n",
    "np.radnom.randint\n",
    "np.ones\n",
    "np.zeros\n",
    "np.eye\n",
    "np.linspace\n",
    "numpy indexing/slicing\n",
    "\n",
    "numpy broadcast add/sub/mul/div\n",
    "np.copy() numpy views\n",
    "np.sum()\n",
    "np.std()\n",
    "np.argmax()\n",
    "np.argmin()\n",
    "np.max()\n",
    "np.min()\n",
    "\n",
    "more information at https://docs.scipy.org/doc/numpy/reference/ufuncs.html"
   ]
  }
 ],
 "metadata": {
  "kernelspec": {
   "display_name": "Python [conda env:py_ds_bootcamp]",
   "language": "python",
   "name": "conda-env-py_ds_bootcamp-py"
  },
  "language_info": {
   "codemirror_mode": {
    "name": "ipython",
    "version": 3
   },
   "file_extension": ".py",
   "mimetype": "text/x-python",
   "name": "python",
   "nbconvert_exporter": "python",
   "pygments_lexer": "ipython3",
   "version": "3.8.1"
  }
 },
 "nbformat": 4,
 "nbformat_minor": 2
}
