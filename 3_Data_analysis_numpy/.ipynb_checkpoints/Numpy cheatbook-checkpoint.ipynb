{
 "cells": [
  {
   "cell_type": "markdown",
   "metadata": {},
   "source": [
    "### install numpy package using conda\n",
    "---\n",
    "\n",
    "**pip: c:\\> pip install numpy**\n",
    "**conda: c:\\> conda install numpy**"
   ]
  },
  {
   "cell_type": "code",
   "execution_count": 2,
   "metadata": {},
   "outputs": [
    {
     "name": "stdout",
     "output_type": "stream",
     "text": [
      "Collecting package metadata (current_repodata.json): ...working... done\n",
      "Solving environment: ...working... done\n",
      "\n",
      "# All requested packages already installed.\n",
      "\n"
     ]
    }
   ],
   "source": [
    "!conda install numpy"
   ]
  },
  {
   "cell_type": "markdown",
   "metadata": {},
   "source": [
    "### Numpy:\n",
    "---\n",
    "\n",
    "* Numpy arrays are like the python list data structure, however they are faster, and are used in computational intense cases\n",
    "* Numpy as two flavors: vectors, matrices\n",
    "* VECTOR: is an 1 dimensional array with shape (1,n)\n",
    "* matrice: is an 2 dimensional array with shape (m*n)(rows*col). \n",
    "\n",
    "***Note: A matrix can still be an 1-d array.***"
   ]
  },
  {
   "cell_type": "code",
   "execution_count": null,
   "metadata": {},
   "outputs": [],
   "source": [
    "# 3.1 numpy arrays\n",
    "\n",
    "list_to_numpy\n",
    "np.arange\n",
    "np.ones\n",
    "np.zeros\n",
    "np.zeros_like\n",
    "np.linspace\n",
    "np.eye\n",
    "np.random.rand(uniform distribution 0 to 1)\n",
    "np.random.rand(normal/gaussian distribution mean around )\n",
    "np.random.randint\n",
    "numpy.reshape()\n",
    "numpy.max\n",
    "numpy.min\n",
    "numpy.argmax\n",
    "numpy.argmin\n",
    "numpy.shape\n",
    "\n",
    "# 3.2 numpy operations\n",
    "numpy indexing\n",
    "numpy slicing\n",
    "numpy.copy()(numpy view)\n",
    "numpy broadcasting\n"
   ]
  }
 ],
 "metadata": {
  "kernelspec": {
   "display_name": "Python [conda env:py_ds_bootcamp]",
   "language": "python",
   "name": "conda-env-py_ds_bootcamp-py"
  },
  "language_info": {
   "codemirror_mode": {
    "name": "ipython",
    "version": 3
   },
   "file_extension": ".py",
   "mimetype": "text/x-python",
   "name": "python",
   "nbconvert_exporter": "python",
   "pygments_lexer": "ipython3",
   "version": "3.8.1"
  }
 },
 "nbformat": 4,
 "nbformat_minor": 2
}
